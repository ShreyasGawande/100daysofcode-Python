{
  "nbformat": 4,
  "nbformat_minor": 0,
  "metadata": {
    "colab": {
      "name": "Day4_Interactive_Exercise_1.ipynb",
      "provenance": [],
      "authorship_tag": "ABX9TyM6waHNY9h8Ngc9mCOW52vv",
      "include_colab_link": true
    },
    "kernelspec": {
      "name": "python3",
      "display_name": "Python 3"
    },
    "language_info": {
      "name": "python"
    }
  },
  "cells": [
    {
      "cell_type": "markdown",
      "metadata": {
        "id": "view-in-github",
        "colab_type": "text"
      },
      "source": [
        "<a href=\"https://colab.research.google.com/github/ShreyasGawande/100daysofcode-Python/blob/main/Day4/Day4_Interactive_Exercise_1.ipynb\" target=\"_parent\"><img src=\"https://colab.research.google.com/assets/colab-badge.svg\" alt=\"Open In Colab\"/></a>"
      ]
    },
    {
      "cell_type": "markdown",
      "metadata": {
        "id": "1qGff08h6BzN"
      },
      "source": [
        "**Heads or Tails**"
      ]
    },
    {
      "cell_type": "code",
      "metadata": {
        "colab": {
          "base_uri": "https://localhost:8080/"
        },
        "id": "6RdedB1Q3Hy_",
        "outputId": "77193e07-21ef-41bc-91f1-a56bb663c5aa"
      },
      "source": [
        "import random\n",
        "coin =  random.randint(1,2)\n",
        "if coin == 1:\n",
        "  print (\"Its a Head!!\")\n",
        "else :\n",
        "  print(\"Its a Tail!!\")\n"
      ],
      "execution_count": 14,
      "outputs": [
        {
          "output_type": "stream",
          "text": [
            "Its a Head!!\n"
          ],
          "name": "stdout"
        }
      ]
    }
  ]
}