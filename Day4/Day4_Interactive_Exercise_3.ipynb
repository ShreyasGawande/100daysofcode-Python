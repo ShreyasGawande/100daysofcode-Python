{
  "nbformat": 4,
  "nbformat_minor": 0,
  "metadata": {
    "colab": {
      "name": "Day4_Interactive_Exercise_3.ipynb",
      "provenance": [],
      "authorship_tag": "ABX9TyOkJNGr7YRzBl4kDXsYAZty",
      "include_colab_link": true
    },
    "kernelspec": {
      "name": "python3",
      "display_name": "Python 3"
    },
    "language_info": {
      "name": "python"
    }
  },
  "cells": [
    {
      "cell_type": "markdown",
      "metadata": {
        "id": "view-in-github",
        "colab_type": "text"
      },
      "source": [
        "<a href=\"https://colab.research.google.com/github/ShreyasGawande/100daysofcode-Python/blob/main/Day4/Day4_Interactive_Exercise_3.ipynb\" target=\"_parent\"><img src=\"https://colab.research.google.com/assets/colab-badge.svg\" alt=\"Open In Colab\"/></a>"
      ]
    },
    {
      "cell_type": "code",
      "metadata": {
        "colab": {
          "base_uri": "https://localhost:8080/"
        },
        "id": "3-vFHVcAEqzJ",
        "outputId": "564e4eb6-a849-4fcb-8a76-ad5b7874691f"
      },
      "source": [
        "row1 = [\"🧺\",\"🧺\" ,\"🧺\"]\n",
        "row2 =[\"🧺\",\"🧺\" ,\"🧺\"]\n",
        "row3 = [\"🧺\",\"🧺\" ,\"🧺\"]\n",
        "map = [row1,row2,row3]\n",
        "\n",
        "print(f\"{row1}\\n{row2}\\n{row3}\")\n",
        "\n",
        "choose_pos = input(\"Where do you want to put the treasure? \")\n",
        "\n",
        "hor = int(choose_pos[0])\n",
        "ver = int(choose_pos[1])\n",
        "\n",
        "map[ver -1][hor - 1]= \"🚩\"\n",
        "print(f\"{row1}\\n{row2}\\n{row3}\")\n"
      ],
      "execution_count": 6,
      "outputs": [
        {
          "output_type": "stream",
          "text": [
            "['🧺', '🧺', '🧺']\n",
            "['🧺', '🧺', '🧺']\n",
            "['🧺', '🧺', '🧺']\n",
            "Where do you want to put the treasure? 23\n",
            "['🧺', '🧺', '🧺']\n",
            "['🧺', '🧺', '🧺']\n",
            "['🧺', '🚩', '🧺']\n"
          ],
          "name": "stdout"
        }
      ]
    }
  ]
}