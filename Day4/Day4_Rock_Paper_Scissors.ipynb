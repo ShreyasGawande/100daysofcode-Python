{
  "nbformat": 4,
  "nbformat_minor": 0,
  "metadata": {
    "colab": {
      "name": "Day4_Rock_Paper_Scissors.ipynb",
      "provenance": [],
      "authorship_tag": "ABX9TyPgmKt43Tce2geOmL4q5Y7Y",
      "include_colab_link": true
    },
    "kernelspec": {
      "name": "python3",
      "display_name": "Python 3"
    },
    "language_info": {
      "name": "python"
    }
  },
  "cells": [
    {
      "cell_type": "markdown",
      "metadata": {
        "id": "view-in-github",
        "colab_type": "text"
      },
      "source": [
        "<a href=\"https://colab.research.google.com/github/ShreyasGawande/100daysofcode-Python/blob/main/Day4/Day4_Rock_Paper_Scissors.ipynb\" target=\"_parent\"><img src=\"https://colab.research.google.com/assets/colab-badge.svg\" alt=\"Open In Colab\"/></a>"
      ]
    },
    {
      "cell_type": "code",
      "metadata": {
        "colab": {
          "base_uri": "https://localhost:8080/"
        },
        "id": "lsSBDCKVIU2v",
        "outputId": "8d4abdc6-7d65-4d1f-ab60-dd713e577a92"
      },
      "source": [
        "import random\n",
        "print(\" ---------- ROCK PAPER SCISSORS ----------\")\n",
        "\n",
        "choice = int(input(\"\\n Choose 0 for Rock , 1 for Paper and 2 for Scissors   \"))\n",
        "\n",
        "comp_choice = random.randint(0,2)\n",
        "\n",
        "data = [\"✊\", \"🖐\",\"✂️\"]\n",
        "print(data)\n",
        "\n",
        "if choice == comp_choice:\n",
        "  print(\"Its a tie!\")\n",
        "elif choice == 2 and comp_choice == 1:\n",
        "  print(f\"\\nYour choice : {data[choice]}\")\n",
        "  print(f\"\\nComputer choice : {data[comp_choice]}\")\n",
        "  print(\"\\n You win!!\")\n",
        "\n",
        "elif choice == 2 and comp_choice == 0:\n",
        "  print(f\"\\nYour choice : {data[choice]}\")\n",
        "  print(f\"\\nComputer choice : {data[comp_choice]}\")\n",
        "  print(\"\\n You lose!!\")\n",
        "  \n",
        "elif choice < comp_choice:\n",
        "  print(f\"\\nYour choice : {data[choice]}\")\n",
        "  print(f\"\\nComputer choice : {data[comp_choice]}\")\n",
        "  print(\"\\n You lose!!\")\n",
        "\n",
        "elif choice > comp_choice:\n",
        "  print(f\"\\nYour choice : {data[choice]}\")\n",
        "  print(f\"\\nComputer choice : {data[comp_choice]}\")\n",
        "  print(\"\\n You win!!\")\n",
        "\n",
        "\n",
        "\n",
        "elif choice <0 or choice >=3 :\n",
        "  print(\"Invalid , try again!\")"
      ],
      "execution_count": 13,
      "outputs": [
        {
          "output_type": "stream",
          "text": [
            " ---------- ROCK PAPER SCISSORS ----------\n",
            "\n",
            " Choose 0 for Rock , 1 for Paper and 2 for Scissors   2\n",
            "['✊', '🖐', '✂️']\n",
            "\n",
            "Your choice : ✂️\n",
            "\n",
            "Computer choice : ✊\n",
            "\n",
            " You lose!!\n"
          ],
          "name": "stdout"
        }
      ]
    }
  ]
}