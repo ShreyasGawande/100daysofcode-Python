{
  "nbformat": 4,
  "nbformat_minor": 0,
  "metadata": {
    "colab": {
      "name": "Day4_Interactive_Exercise_2.ipynb",
      "provenance": [],
      "authorship_tag": "ABX9TyNVlH86mtDnFwh5smrOzGxp",
      "include_colab_link": true
    },
    "kernelspec": {
      "name": "python3",
      "display_name": "Python 3"
    },
    "language_info": {
      "name": "python"
    }
  },
  "cells": [
    {
      "cell_type": "markdown",
      "metadata": {
        "id": "view-in-github",
        "colab_type": "text"
      },
      "source": [
        "<a href=\"https://colab.research.google.com/github/ShreyasGawande/100daysofcode-Python/blob/main/Day4/Day4_Interactive_Exercise_2.ipynb\" target=\"_parent\"><img src=\"https://colab.research.google.com/assets/colab-badge.svg\" alt=\"Open In Colab\"/></a>"
      ]
    },
    {
      "cell_type": "code",
      "metadata": {
        "colab": {
          "base_uri": "https://localhost:8080/"
        },
        "id": "T5M1i9xX7Jbd",
        "outputId": "1e3eb0c6-cc56-4c82-a45a-6cd0c3831889"
      },
      "source": [
        "import random\n",
        "names_list = input(\"Give me everyones name seperated by comma: \")\n",
        "\n",
        "names = names_list.split(\",\")\n",
        "\n",
        "x = len(names)\n",
        "i = random.randint(0,x-1)\n",
        "print(names[i] + \" will pay the bill!!\")"
      ],
      "execution_count": 4,
      "outputs": [
        {
          "output_type": "stream",
          "text": [
            "Give me everyones name seperated by comma: Shreyas , Sara, Sherley\n",
            "Shreyas  will pay the bill!!\n"
          ],
          "name": "stdout"
        }
      ]
    }
  ]
}