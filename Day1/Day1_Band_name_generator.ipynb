{
  "nbformat": 4,
  "nbformat_minor": 0,
  "metadata": {
    "colab": {
      "name": "Day1 - Band_name_generator",
      "provenance": [],
      "collapsed_sections": [],
      "authorship_tag": "ABX9TyNLI5TKoJhxspO2lpIQfaRi",
      "include_colab_link": true
    },
    "kernelspec": {
      "name": "python3",
      "display_name": "Python 3"
    },
    "language_info": {
      "name": "python"
    }
  },
  "cells": [
    {
      "cell_type": "markdown",
      "metadata": {
        "id": "view-in-github",
        "colab_type": "text"
      },
      "source": [
        "<a href=\"https://colab.research.google.com/github/ShreyasGawande/100daysofcode-Python/blob/main/Day1/Day1_Band_name_generator.ipynb\" target=\"_parent\"><img src=\"https://colab.research.google.com/assets/colab-badge.svg\" alt=\"Open In Colab\"/></a>"
      ]
    },
    {
      "cell_type": "code",
      "metadata": {
        "colab": {
          "base_uri": "https://localhost:8080/"
        },
        "id": "vI0Pet5X2BxI",
        "outputId": "fc83f166-dcce-49f9-b0eb-7dcc9ee410ae"
      },
      "source": [
        "#DAY1\n",
        "#Learned about print(), input() and String Manipulation.\n",
        "print(\"Welcome to Band Name Generator\")\n",
        "\n",
        "genre = input(\"Which genre of songs do you play?\\n\")\n",
        "\n",
        "instrument = input(\"Which instrument you like to play? \\n\")\n",
        "\n",
        "print (\"Name of your band could be: \"+genre+\" \"+instrument)\n"
      ],
      "execution_count": 2,
      "outputs": [
        {
          "output_type": "stream",
          "text": [
            "Welcome to Band Name Generator\n",
            "Which genre of songs do you play?\n",
            "Rock\n",
            "Which instrument you like to play? \n",
            "Piano\n",
            "Name of your band could be: Rock Piano\n"
          ],
          "name": "stdout"
        }
      ]
    }
  ]
}