{
  "nbformat": 4,
  "nbformat_minor": 0,
  "metadata": {
    "colab": {
      "name": "Day2_Tip_Calculator.ipynb",
      "provenance": [],
      "authorship_tag": "ABX9TyOXYbtZ3SBq5idCTib2dsO6",
      "include_colab_link": true
    },
    "kernelspec": {
      "name": "python3",
      "display_name": "Python 3"
    },
    "language_info": {
      "name": "python"
    }
  },
  "cells": [
    {
      "cell_type": "markdown",
      "metadata": {
        "id": "view-in-github",
        "colab_type": "text"
      },
      "source": [
        "<a href=\"https://colab.research.google.com/github/ShreyasGawande/100daysofcode-Python/blob/main/Day2/Day2_Tip_Calculator.ipynb\" target=\"_parent\"><img src=\"https://colab.research.google.com/assets/colab-badge.svg\" alt=\"Open In Colab\"/></a>"
      ]
    },
    {
      "cell_type": "markdown",
      "metadata": {
        "id": "Acc_oQ2THQWf"
      },
      "source": [
        "# **Tip Calculator**"
      ]
    },
    {
      "cell_type": "code",
      "metadata": {
        "colab": {
          "base_uri": "https://localhost:8080/"
        },
        "id": "v-ShjAOLHFsz",
        "outputId": "efd274af-0135-40da-bec9-6f42a87a15af"
      },
      "source": [
        "print(\"Welcome to the Tip Calcy\")\n",
        "\n",
        "bill_amt= float(input(\"What is your bill amount : Rs.\"))\n",
        "\n",
        "no_of_people = int(input(\"In how many people the bill is going to be split ? \"))\n",
        "\n",
        "tip_per = int(input(\"What percentage of tip you would like to give 10, 12 or 15? \"))\n",
        "\n",
        "\n",
        "bill_tip = tip_per/100 * bill_amt + bill_amt\n",
        "#print(bill_tip)\n",
        "\n",
        "bill_person = round(bill_tip/no_of_people , 2)\n",
        "print(f\"Bill to be paid by each person : Rs.{bill_person}\")\n"
      ],
      "execution_count": 6,
      "outputs": [
        {
          "output_type": "stream",
          "text": [
            "Welcome to the Tip Calcy\n",
            "What is your bill amount : Rs.990\n",
            "In how many people the bill is going to be split ? 5\n",
            "What percentage of tip you would like to give 10, 12 or 15? 12\n",
            "Bill to be paid by each person : Rs.221.76\n"
          ],
          "name": "stdout"
        }
      ]
    }
  ]
}