{
  "nbformat": 4,
  "nbformat_minor": 0,
  "metadata": {
    "colab": {
      "name": "Day2_Interactive_Exercise_2.ipynb",
      "provenance": [],
      "authorship_tag": "ABX9TyNc23mLhl/kuzIJpASpzuZy",
      "include_colab_link": true
    },
    "kernelspec": {
      "name": "python3",
      "display_name": "Python 3"
    },
    "language_info": {
      "name": "python"
    }
  },
  "cells": [
    {
      "cell_type": "markdown",
      "metadata": {
        "id": "view-in-github",
        "colab_type": "text"
      },
      "source": [
        "<a href=\"https://colab.research.google.com/github/ShreyasGawande/100daysofcode-Python/blob/main/Day2/Day2_Interactive_Exercise_2.ipynb\" target=\"_parent\"><img src=\"https://colab.research.google.com/assets/colab-badge.svg\" alt=\"Open In Colab\"/></a>"
      ]
    },
    {
      "cell_type": "markdown",
      "metadata": {
        "id": "BlWoJzWXENef"
      },
      "source": [
        "# **Life in Weeks**"
      ]
    },
    {
      "cell_type": "markdown",
      "metadata": {
        "id": "6p3gq2CEEX56"
      },
      "source": [
        "### **Question**\n",
        "Create a program using maths and f-Strings that tells us how many days, weeks, months we have left if we live until 90 years old.\n",
        "\n",
        "It will take your current age as the input and output a message with our time left in this format:\n",
        "\n",
        "You have x days, y weeks, and z months left.\n",
        "\n",
        "Where x, y and z are replaced with the actual calculated numbers.\n",
        "\n",
        "Warning your output should match the Example Output format exactly, even the positions of the commas and full stops.\n",
        "\n",
        "Example Input\n",
        "56\n",
        "Example Output\n",
        "You have 12410 days, 1768 weeks, and 408 months left.\n",
        "\n",
        "\n",
        "Hint\n",
        "There are 365 days in a year, 52 weeks in a year and 12 months in a year.\n",
        "Try copying the example output into your code and replace the relevant parts so that the sentence is formated the same way."
      ]
    },
    {
      "cell_type": "code",
      "metadata": {
        "colab": {
          "base_uri": "https://localhost:8080/"
        },
        "id": "J27CWK6dEHS5",
        "outputId": "16c485a5-a3f4-453a-a061-4750e2b88898"
      },
      "source": [
        "age = int(input(\"What is your age ? : \"))\n",
        "remaining_age = 90-age\n",
        "\n",
        "remaining_days = remaining_age * 365\n",
        "remaining_weeks = remaining_age * 52\n",
        "remaining_months = remaining_age * 12\n",
        "print(f\"You have {remaining_days} days, {remaining_weeks} weeks, and {remaining_months} months left.\")\n",
        "\n"
      ],
      "execution_count": 3,
      "outputs": [
        {
          "output_type": "stream",
          "text": [
            "What is your age ? : 30\n",
            "You have 21900 days, 3120 weeks, and 720 months left.\n"
          ],
          "name": "stdout"
        }
      ]
    }
  ]
}