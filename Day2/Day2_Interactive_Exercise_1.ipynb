{
  "nbformat": 4,
  "nbformat_minor": 0,
  "metadata": {
    "colab": {
      "name": "Day2_Interactive_Exercise_1.ipynb",
      "provenance": [],
      "authorship_tag": "ABX9TyOsavtmN3fwjRHJdAIOGBxy",
      "include_colab_link": true
    },
    "kernelspec": {
      "name": "python3",
      "display_name": "Python 3"
    },
    "language_info": {
      "name": "python"
    }
  },
  "cells": [
    {
      "cell_type": "markdown",
      "metadata": {
        "id": "view-in-github",
        "colab_type": "text"
      },
      "source": [
        "<a href=\"https://colab.research.google.com/github/ShreyasGawande/100daysofcode-Python/blob/main/Day2/Day2_Interactive_Exercise_1.ipynb\" target=\"_parent\"><img src=\"https://colab.research.google.com/assets/colab-badge.svg\" alt=\"Open In Colab\"/></a>"
      ]
    },
    {
      "cell_type": "markdown",
      "metadata": {
        "id": "d_vDafLrAOe0"
      },
      "source": [
        "# **BMI CALCULATOR**"
      ]
    },
    {
      "cell_type": "code",
      "metadata": {
        "colab": {
          "base_uri": "https://localhost:8080/"
        },
        "id": "Hr2bcTqIAI13",
        "outputId": "ba975a7a-5c55-48ab-e11b-9a4ee24a6fc8"
      },
      "source": [
        "weight = float(input(\"Your weight in kg : \"))\n",
        "height = float(input(\"Your height in m : \"))\n",
        "bmi= int(weight/(height ** 2))\n",
        "print(bmi)\n"
      ],
      "execution_count": 3,
      "outputs": [
        {
          "output_type": "stream",
          "text": [
            "Your weight in kg : 84\n",
            "Your height in m : 1.77\n",
            "26\n"
          ],
          "name": "stdout"
        }
      ]
    }
  ]
}