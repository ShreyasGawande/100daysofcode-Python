{
  "nbformat": 4,
  "nbformat_minor": 0,
  "metadata": {
    "colab": {
      "name": "Day3_Interactive_Exercise_4.ipynb",
      "provenance": [],
      "authorship_tag": "ABX9TyNo53BlIam/DYaHn0qR62Hi",
      "include_colab_link": true
    },
    "kernelspec": {
      "name": "python3",
      "display_name": "Python 3"
    },
    "language_info": {
      "name": "python"
    }
  },
  "cells": [
    {
      "cell_type": "markdown",
      "metadata": {
        "id": "view-in-github",
        "colab_type": "text"
      },
      "source": [
        "<a href=\"https://colab.research.google.com/github/ShreyasGawande/100daysofcode-Python/blob/main/Day3/Day3_Interactive_Exercise_4.ipynb\" target=\"_parent\"><img src=\"https://colab.research.google.com/assets/colab-badge.svg\" alt=\"Open In Colab\"/></a>"
      ]
    },
    {
      "cell_type": "markdown",
      "metadata": {
        "id": "F5avs-6xO21g"
      },
      "source": [
        "# **PIZZA ORDER CALCULATOR**"
      ]
    },
    {
      "cell_type": "code",
      "metadata": {
        "colab": {
          "base_uri": "https://localhost:8080/"
        },
        "id": "pIx3uPYTOwEx",
        "outputId": "f06aeb1f-7ac9-4252-c36a-dd04b9584415"
      },
      "source": [
        "print(\"Hello, Welcome to Pizza Deliveries!!\")\n",
        "\n",
        "size = input(\"What size pizza do you want ?  S, M or L  \")\n",
        "pep = input(\"Do you want pepperoni ? Y or N  \")\n",
        "cheese = input(\"Do you want extra cheese ? Y or N  \")\n",
        "\n",
        "bill = 0\n",
        "\n",
        "if size == \"S\":\n",
        "  bill += 15\n",
        "elif size == \"M\":\n",
        "  bill += 20\n",
        "elif size == \"L\":\n",
        "  bill+= 25\n",
        "else:\n",
        "  print(\"Please choose from given size\")\n",
        "\n",
        "if pep == \"Y\":\n",
        "  if size == \"S\":\n",
        "    bill += 2\n",
        "  else :\n",
        "    bill +=3\n",
        "if cheese == \"Y\":\n",
        "  bill +=1\n",
        "\n",
        "print(f\"Your total bill is ${bill}\")"
      ],
      "execution_count": 3,
      "outputs": [
        {
          "output_type": "stream",
          "text": [
            "Hello, Welcome to Pizza Deliveries!!\n",
            "What size pizza do you want ?  S, M or L  L\n",
            "Do you want pepperoni ? Y or N  Y\n",
            "Do you want extra cheese ? Y or N  N\n",
            "Your total bill is $28\n"
          ],
          "name": "stdout"
        }
      ]
    }
  ]
}