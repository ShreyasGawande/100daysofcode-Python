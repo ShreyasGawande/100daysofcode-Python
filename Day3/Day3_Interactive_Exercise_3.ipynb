{
  "nbformat": 4,
  "nbformat_minor": 0,
  "metadata": {
    "colab": {
      "name": "Day3_Interactive_Exercise_3.ipynb",
      "provenance": [],
      "authorship_tag": "ABX9TyP0H72IyL9Gy7KWGWrRs3+d",
      "include_colab_link": true
    },
    "kernelspec": {
      "name": "python3",
      "display_name": "Python 3"
    },
    "language_info": {
      "name": "python"
    }
  },
  "cells": [
    {
      "cell_type": "markdown",
      "metadata": {
        "id": "view-in-github",
        "colab_type": "text"
      },
      "source": [
        "<a href=\"https://colab.research.google.com/github/ShreyasGawande/100daysofcode-Python/blob/main/Day3/Day3_Interactive_Exercise_3.ipynb\" target=\"_parent\"><img src=\"https://colab.research.google.com/assets/colab-badge.svg\" alt=\"Open In Colab\"/></a>"
      ]
    },
    {
      "cell_type": "markdown",
      "metadata": {
        "id": "Ac5Z3jxFJ7w4"
      },
      "source": [
        "# **Leap Year**<br>\n",
        "*💪This is a Difficult Challenge 💪*\n",
        "\n",
        "Instructions\n",
        "\n",
        "Write a program that works out whether if a given year is a leap year. \n",
        "A normal year has 365 days, leap years have 366, with an extra day in February. The reason why we have leap years is really fascinating, this video does it more justice:\n",
        "\n",
        "https://www.youtube.com/watch?v=xX96xng7sAE\n",
        "\n",
        "This is how you work out whether if a particular year is a leap year.\n",
        "\n",
        "on every year that is evenly divisible by 4 **except** every year that is evenly divisible by 100 **unless** the year is also evenly divisible by 400\n",
        "\n",
        "e.g. The year 2000:\n",
        "\n",
        "2000 ÷ 4 = 500 (Leap)\n",
        "\n",
        "2000 ÷ 100 = 20 (Not Leap)\n",
        "\n",
        "2000 ÷ 400 = 5 (Leap!)\n",
        "\n",
        "So the year 2000 is a leap year.\n",
        "\n",
        "But the year 2100 is not a leap year because:\n",
        "\n",
        "2100 ÷ 4 = 525 (Leap)\n",
        "\n",
        "2100 ÷ 100 = 21 (Not Leap)\n",
        "\n",
        "2100 ÷ 400 = 5.25 (Not Leap)"
      ]
    },
    {
      "cell_type": "code",
      "metadata": {
        "colab": {
          "base_uri": "https://localhost:8080/"
        },
        "id": "HwrMBIDoJ7VL",
        "outputId": "c4e0fcbb-d1d0-4d95-9824-3927475765f6"
      },
      "source": [
        "year = int(input(\"Enter the year : \"))\n",
        "\n",
        "if len(str(year)) != 4:\n",
        "  print(\"Please enter a valid year!\")\n",
        "else:\n",
        "  if year % 4 == 0:\n",
        "    if year % 100 == 0 :\n",
        "      if year % 400 == 0 :\n",
        "        print(\"It is a leap year!\")\n",
        "      else:\n",
        "        print(\"Not a leap year\")\n",
        "    else:\n",
        "       print(\"It is a leap year!\")\n",
        "  else : \n",
        "    print(\"Not a leap year\")"
      ],
      "execution_count": 12,
      "outputs": [
        {
          "output_type": "stream",
          "text": [
            "Enter the year : 2016\n",
            "It is a leap year!\n"
          ],
          "name": "stdout"
        }
      ]
    }
  ]
}