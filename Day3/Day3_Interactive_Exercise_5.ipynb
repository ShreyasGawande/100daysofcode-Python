{
  "nbformat": 4,
  "nbformat_minor": 0,
  "metadata": {
    "colab": {
      "name": "Day3_Interactive_Exercise_5.ipynb",
      "provenance": [],
      "authorship_tag": "ABX9TyPmHGxzZAXSnWEbsAI/JJZa",
      "include_colab_link": true
    },
    "kernelspec": {
      "name": "python3",
      "display_name": "Python 3"
    },
    "language_info": {
      "name": "python"
    }
  },
  "cells": [
    {
      "cell_type": "markdown",
      "metadata": {
        "id": "view-in-github",
        "colab_type": "text"
      },
      "source": [
        "<a href=\"https://colab.research.google.com/github/ShreyasGawande/100daysofcode-Python/blob/main/Day3/Day3_Interactive_Exercise_5.ipynb\" target=\"_parent\"><img src=\"https://colab.research.google.com/assets/colab-badge.svg\" alt=\"Open In Colab\"/></a>"
      ]
    },
    {
      "cell_type": "markdown",
      "metadata": {
        "id": "6laqbSIvV5XH"
      },
      "source": [
        "# **Love Calculator**\n",
        "\n",
        "## ***Fun Exercise***\n",
        "## **💪 This is a Difficult Challenge 💪**\n",
        "\n",
        "Instructions\n",
        "\n",
        "You are going to write a program that tests the compatibility between two people.\n",
        "\n",
        "To work out the love score between two people:\n",
        "\n",
        "Take both people's names and check for the number of times the letters in the word TRUE occurs. Then check for the number of times the letters in the word LOVE occurs. Then combine these numbers to make a 2 digit number.\n",
        "\n",
        "For Love Scores less than 10 or greater than 90, the message should be:\n",
        "\n",
        "\"Your score is **x**, you go together like coke and mentos.\"\n",
        "\n",
        "For Love Scores between 40 and 50, the message should be:\n",
        "\n",
        "\"Your score is **y**, you are alright together.\"\n",
        "\n",
        "Otherwise, the message will just be their score. e.g.:\n",
        "\n",
        "\"Your score is **z**.\"\n",
        "\n",
        "e.g.\n",
        "\n",
        "name1 = \"Angela Yu\"\n",
        "\n",
        "name2 = \"Jack Bauer\"\n",
        "\n",
        "T occurs 0 times\n",
        "\n",
        "R occurs 1 time\n",
        "\n",
        "U occurs 2 times\n",
        "\n",
        "E occurs 2 times\n",
        "\n",
        "Total = 5\n",
        "\n",
        "L occurs 1 time\n",
        "\n",
        "O occurs 0 times\n",
        "\n",
        "V occurs 0 times\n",
        "\n",
        "E occurs 2 times\n",
        "\n",
        "Total = 3\n",
        "\n",
        "Love Score = 53\n",
        "\n",
        "Print: \"Your score is 53.\"\n",
        "\n",
        "Example Input 1\n",
        "name1 = \"Kanye West\"\n",
        "name2 = \"Kim Kardashian\"\n",
        "Example Output 1\n",
        "Your score is 42, you are alright together. \n",
        "\n",
        "<br>\n",
        "\n",
        "\n",
        "### Hint\n",
        "\n",
        "The **lower()** function changes all the letters in a string to lower case.\n",
        "https://stackoverflow.com/questions/6797984/how-do-i-lowercase-a-string-in-python\n",
        "\n",
        "The **count()** function will give you the number of times a letter occurs in a string.\n",
        "https://stackoverflow.com/questions/1155617/count-the-number-occurrences-of-a-character-in-a-string"
      ]
    },
    {
      "cell_type": "code",
      "metadata": {
        "colab": {
          "base_uri": "https://localhost:8080/"
        },
        "id": "V4VwTx7QVwiL",
        "outputId": "aeafdc3c-2c83-44d8-d7d1-0e385b677dbc"
      },
      "source": [
        "name1 = input(\"Enter your name :  \")\n",
        "name2 = input(\"Emter your partner's name : \")\n",
        "comb_name = name1+name2\n",
        "comb_name =  comb_name.lower()\n",
        "#print(comb_name)\n",
        "\n",
        "t = comb_name.count(\"t\")\n",
        "r = comb_name.count(\"r\")\n",
        "u = comb_name.count(\"u\")\n",
        "e = comb_name.count(\"e\")\n",
        "\n",
        "true = t+r+u+e\n",
        "\n",
        "l = comb_name.count(\"l\")\n",
        "o = comb_name.count(\"o\")\n",
        "v = comb_name.count(\"v\")\n",
        "e = comb_name.count(\"e\")\n",
        "\n",
        "love = l+o+v+e\n",
        "\n",
        "score = str(true)+str(love)\n",
        "score =int(score)\n",
        "if (score < 10) or (score > 90):\n",
        "  print(f\"Your score is {score}, you go together like coke and mentos.\")\n",
        "elif (score >= 40) and (score <=50):\n",
        "  print(f\"Your score is {score}, you are alright together.\")\n",
        "else:\n",
        "  print(f\"Your score is {score}\")\n"
      ],
      "execution_count": 10,
      "outputs": [
        {
          "output_type": "stream",
          "text": [
            "Enter your name :  Kanye West\n",
            "Emter your partner's name : Kim Kardashian\n",
            "Your score is 42, you are alright together.\n"
          ],
          "name": "stdout"
        }
      ]
    }
  ]
}