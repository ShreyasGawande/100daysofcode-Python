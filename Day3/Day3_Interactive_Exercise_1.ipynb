{
  "nbformat": 4,
  "nbformat_minor": 0,
  "metadata": {
    "colab": {
      "name": "Day3_Interactive_Exercise_1.ipynb",
      "provenance": [],
      "authorship_tag": "ABX9TyOsmy/UKsEujJ0dtA9H1g7x",
      "include_colab_link": true
    },
    "kernelspec": {
      "name": "python3",
      "display_name": "Python 3"
    },
    "language_info": {
      "name": "python"
    }
  },
  "cells": [
    {
      "cell_type": "markdown",
      "metadata": {
        "id": "view-in-github",
        "colab_type": "text"
      },
      "source": [
        "<a href=\"https://colab.research.google.com/github/ShreyasGawande/100daysofcode-Python/blob/main/Day3/Day3_Interactive_Exercise_1.ipynb\" target=\"_parent\"><img src=\"https://colab.research.google.com/assets/colab-badge.svg\" alt=\"Open In Colab\"/></a>"
      ]
    },
    {
      "cell_type": "markdown",
      "metadata": {
        "id": "ZP3xPlD27C9m"
      },
      "source": [
        "# **Odd or Even**\n",
        "## Instructions\n",
        "Write a program that works out whether if a given number is an odd or even number.\n",
        "\n",
        "Even numbers can be divided by 2 with no remainder.\n",
        "\n",
        "e.g. 86 is even because 86 ÷ 2 = 43\n",
        "\n",
        "43 does not have any decimal places. Therefore the division is clean.\n",
        "\n",
        "e.g. 59 is odd because 59 ÷ 2 = 29.5\n",
        "\n",
        "29.5 is not a whole number, it has decimal places. Therefore there is a remainder of 0.5, so the division is not clean."
      ]
    },
    {
      "cell_type": "code",
      "metadata": {
        "colab": {
          "base_uri": "https://localhost:8080/"
        },
        "id": "B3DKOI2k7ALr",
        "outputId": "0ed550e4-19a5-4623-e192-430c9460bc94"
      },
      "source": [
        "num = int(input(\"Enter the number: \"))\n",
        "if num % 2 ==0:\n",
        "  print(\"Its an even number\")\n",
        "else :\n",
        "  print(\"Its an odd number\")"
      ],
      "execution_count": 1,
      "outputs": [
        {
          "output_type": "stream",
          "text": [
            "Enter the number: 23\n",
            "Its an odd number\n"
          ],
          "name": "stdout"
        }
      ]
    }
  ]
}