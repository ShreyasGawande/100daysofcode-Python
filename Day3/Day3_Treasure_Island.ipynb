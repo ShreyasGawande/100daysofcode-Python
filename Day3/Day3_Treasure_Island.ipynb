{
  "nbformat": 4,
  "nbformat_minor": 0,
  "metadata": {
    "colab": {
      "name": "Day3_Treasure_Island.ipynb",
      "provenance": [],
      "authorship_tag": "ABX9TyMixZaiX1bP3e5gORq/CE4e",
      "include_colab_link": true
    },
    "kernelspec": {
      "name": "python3",
      "display_name": "Python 3"
    },
    "language_info": {
      "name": "python"
    }
  },
  "cells": [
    {
      "cell_type": "markdown",
      "metadata": {
        "id": "view-in-github",
        "colab_type": "text"
      },
      "source": [
        "<a href=\"https://colab.research.google.com/github/ShreyasGawande/100daysofcode-Python/blob/main/Day3/Day3_Treasure_Island.ipynb\" target=\"_parent\"><img src=\"https://colab.research.google.com/assets/colab-badge.svg\" alt=\"Open In Colab\"/></a>"
      ]
    },
    {
      "cell_type": "markdown",
      "metadata": {
        "id": "9vqpXSw7IH3W"
      },
      "source": [
        "# **Treasure Island**"
      ]
    },
    {
      "cell_type": "code",
      "metadata": {
        "colab": {
          "base_uri": "https://localhost:8080/"
        },
        "id": "OzSLScEjIBnL",
        "outputId": "38e8fadd-516f-4b57-cb4a-69dda34cacb5"
      },
      "source": [
        "print(\"--------------------------WELCOME TO TREASURE ISLAND------------------------\\n\")\n",
        "print(\"Your mission is to find treasure, lets find it!!!!\\n\")\n",
        "\n",
        "print(\"Start..\\n\")\n",
        "path = input(\"Lets choose the path. Type L or R\\n\")\n",
        "\n",
        "if path == 'R':\n",
        "  print(\"Oops you fell into deep hole!\\n\")\n",
        "  print(\"-x-x-x-x-x- GAME OVER -x-x-x-x-x-\")\n",
        "else :\n",
        "  swim = input(\"You now have come near an ocean. What would you like to WAIT or SWIM\\n\")\n",
        "  if swim == 'SWIM':\n",
        "    print(\"Ooh no you are surrounded by sharks. No chance of escape\\n\")\n",
        "    print(\"-x-x-x-x-x- GAME OVER -x-x-x-x-x-\")\n",
        "  else:\n",
        "    print(\"Woohooo waiting has been great for you. A ferry boat drops you on the island\\n\")\n",
        "    door = input(\"You see three doors now which will you choose? RED , BLUE or YELLOW \\n\")\n",
        "    if door == 'RED':\n",
        "      print(\"Wrong selection, its room full of fire \\n\")\n",
        "      print(\"-x-x-x-x-x- GAME OVER -x-x-x-x-x-\")\n",
        "    elif door == 'BLUE':\n",
        "      print(\"Wrong selection, its room full of water \\n\")\n",
        "      print(\"-x-x-x-x-x- GAME OVER -x-x-x-x-x-\")\n",
        "    elif door == 'YELLOW':\n",
        "      print(\"Room full of treasures...\")\n",
        "      print(\"------------!!!YOU WON!!!----------------\")"
      ],
      "execution_count": 5,
      "outputs": [
        {
          "output_type": "stream",
          "text": [
            "--------------------------WELCOME TO TREASURE ISLAND------------------------\n",
            "\n",
            "Your mission is to find treasure, lets find it!!!!\n",
            "\n",
            "Start..\n",
            "\n",
            "Lets choose the path. Type L or R\n",
            "L\n",
            "You now have come near an ocean. What would you like to WAIT or SWIM\n",
            "WAIT\n",
            "Woohooo waiting has been great for you. A ferry boat drops you on the island\n",
            "\n",
            "You see three doors now which will you choose? RED , BLUE or YELLOW \n",
            "YELLOW\n",
            "Room full of treasures...\n",
            "------------!!!YOU WON!!!----------------\n"
          ],
          "name": "stdout"
        }
      ]
    }
  ]
}