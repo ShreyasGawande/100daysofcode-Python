{
  "nbformat": 4,
  "nbformat_minor": 0,
  "metadata": {
    "colab": {
      "name": "Day3_Interactive_Exercise_2.ipynb",
      "provenance": [],
      "authorship_tag": "ABX9TyOwdDh6o+rvoMdnZzmjUJVU",
      "include_colab_link": true
    },
    "kernelspec": {
      "name": "python3",
      "display_name": "Python 3"
    },
    "language_info": {
      "name": "python"
    }
  },
  "cells": [
    {
      "cell_type": "markdown",
      "metadata": {
        "id": "view-in-github",
        "colab_type": "text"
      },
      "source": [
        "<a href=\"https://colab.research.google.com/github/ShreyasGawande/100daysofcode-Python/blob/main/Day3/Day3_Interactive_Exercise_2.ipynb\" target=\"_parent\"><img src=\"https://colab.research.google.com/assets/colab-badge.svg\" alt=\"Open In Colab\"/></a>"
      ]
    },
    {
      "cell_type": "markdown",
      "metadata": {
        "id": "i-_TZoedAuG0"
      },
      "source": [
        "# **BMI Calculator 2.0**\n",
        "## Instructions\n",
        "Write a program that interprets the Body Mass Index (BMI) based on a user's weight and height.\n",
        "\n",
        "It should tell them the interpretation of their BMI based on the BMI value.\n",
        "\n",
        "Under 18.5 they are underweight<br>\n",
        "Over 18.5 but below 25 they have a normal weight<br>\n",
        "Over 25 but below 30 they are slightly overweight<br>\n",
        "Over 30 but below 35 they are obese<br>\n",
        "Above 35 they are clinically obese.<br>\n",
        "\n",
        "\n",
        "The BMI is calculated by dividing a person's weight (in kg) by the square of their height (in m):<br>\n",
        "\n",
        "\n",
        "Warning you should round the result to the nearest whole number. The interpretation message needs to include the words in bold from the interpretations above. e.g. underweight, normal weight, overweight, obese, clinically obese.\n",
        "\n",
        "Example Input<br>\n",
        "weight = 85<br>\n",
        "height = 1.75<br>\n",
        "Example Output<br>\n",
        "85 ÷ (1.75 x 1.75) = 27.755102040816325<br>\n",
        "\n",
        "Your BMI is 28, you are slightly overweight.<br>\n",
        "e.g. When you hit run, this is what should happen:<br>\n",
        "\n",
        "\n",
        "The testing code will check for print output that is formatted like one of the lines below:\n",
        "\n",
        "\"Your BMI is 18, you are underweight.\" <br>\n",
        "\"Your BMI is 22, you have a normal weight.\" <br>\n",
        "\"Your BMI is 28, you are slightly overweight.\"<br>\n",
        "\"Your BMI is 33, you are obese.\"<br>\n",
        "\"Your BMI is 40, you are clinically obese.\"<br>"
      ]
    },
    {
      "cell_type": "code",
      "metadata": {
        "colab": {
          "base_uri": "https://localhost:8080/"
        },
        "id": "x7vF_9Ud_n7m",
        "outputId": "e7ec5a23-7b3d-4853-9a6b-2e3e84523c23"
      },
      "source": [
        "height = float(input(\"Enter your height in m : \"))\n",
        "weight = int(input(\"Enter your weight in kg : \"))\n",
        "\n",
        "#calculating BMI\n",
        "\n",
        "bmi = float(weight/(height**2))\n",
        "bmi = round(bmi ,2)\n",
        "\n",
        "if bmi < 18.5:\n",
        "  print(f\"Your BMI is {bmi}, you are underweight.\")\n",
        "elif bmi >= 18.5 and bmi < 25:\n",
        "   print(f\"Your BMI is {bmi}, you have normal weight.\")\n",
        "elif bmi >= 25 and bmi < 30:\n",
        "   print(f\"Your BMI is {bmi}, you are slightly overweight.\")\n",
        "elif bmi >= 30 and bmi < 35:\n",
        "   print(f\"Your BMI is {bmi}, you are obese.\")   \n",
        "else : \n",
        "  print(f\"Your BMI is {bmi}, you are clinically obese.\")"
      ],
      "execution_count": 15,
      "outputs": [
        {
          "output_type": "stream",
          "text": [
            "Enter your height in m : 1.75\n",
            "Enter your weight in kg : 85\n",
            "Your BMI is 27.76, you are slightly overweight.\n"
          ],
          "name": "stdout"
        }
      ]
    }
  ]
}